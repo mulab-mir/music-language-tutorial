{
  "cells": [
    {
      "cell_type": "markdown",
      "metadata": {
        "id": "AU2aKMwT21Oq"
      },
      "source": [
        "# Code Tutorial\n"
      ]
    },
    {
      "cell_type": "code",
      "execution_count": 3,
      "metadata": {
        "id": "F4hfYNb2wu9m"
      },
      "outputs": [],
      "source": [
        "import torch\n",
        "import IPython.display as ipd\n",
        "sr = 44100\n",
        "duration = 5\n",
        "audio_sample = torch.randn(1, sr * duration)\n",
        "ipd.Audio(audio_sample.numpy(), rate=sr)"
      ]
    }
  ],
  "metadata": {
    "accelerator": "GPU",
    "colab": {
      "gpuType": "T4",
      "provenance": []
    },
    "kernelspec": {
      "display_name": "Python 3",
      "name": "python3"
    },
    "language_info": {
      "codemirror_mode": {
        "name": "ipython",
        "version": 3
      },
      "file_extension": ".py",
      "mimetype": "text/x-python",
      "name": "python",
      "nbconvert_exporter": "python",
      "pygments_lexer": "ipython3",
      "version": "3.9.6"
    }
  },
  "nbformat": 4,
  "nbformat_minor": 0
}
